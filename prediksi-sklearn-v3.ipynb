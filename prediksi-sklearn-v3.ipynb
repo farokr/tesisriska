{
 "cells": [
  {
   "cell_type": "code",
   "execution_count": 58,
   "id": "42bffcf9-26da-46f2-9b1d-212317bbda5a",
   "metadata": {},
   "outputs": [],
   "source": [
    "from sklearn import preprocessing\n",
    "import pandas as pd\n",
    "from sklearn.model_selection import train_test_split\n",
    "from sklearn.metrics import confusion_matrix\n",
    "from sklearn.metrics import plot_confusion_matrix\n",
    "from sklearn import metrics\n",
    "import numpy as np\n",
    "import matplotlib.pyplot as plt\n",
    "import seaborn as sns\n",
    "from imblearn.over_sampling import SMOTE\n",
    "\n",
    "from sklearn.naive_bayes import GaussianNB\n",
    "from sklearn.tree import DecisionTreeClassifier\n",
    "from sklearn.neighbors import KNeighborsClassifier\n",
    "from sklearn import tree"
   ]
  },
  {
   "cell_type": "code",
   "execution_count": 16,
   "id": "474ea5ef-01f2-4af5-bb2b-624661db613c",
   "metadata": {},
   "outputs": [],
   "source": [
    "df_master = pd.read_csv('DATA_MAHASISWA.csv',sep=';')"
   ]
  },
  {
   "cell_type": "code",
   "execution_count": 4,
   "id": "87d766c8-2068-40f6-b3c9-a6c8d6374f70",
   "metadata": {},
   "outputs": [
    {
     "data": {
      "text/plain": [
       "Index(['no', 'NIM', 'nama', 'jk', 'program_studi', 'ips_1', 'ips_2', 'ips_3',\n",
       "       'ips_4', 'ips_5', 'ips_6', 'ips_7', 'ipk', 'total_sks', 'pekerjaan',\n",
       "       'kelulusan'],\n",
       "      dtype='object')"
      ]
     },
     "execution_count": 4,
     "metadata": {},
     "output_type": "execute_result"
    }
   ],
   "source": [
    "df_master.columns"
   ]
  },
  {
   "cell_type": "code",
   "execution_count": 5,
   "id": "51353719-3e00-4e0b-ad30-2c7357d8f685",
   "metadata": {},
   "outputs": [
    {
     "name": "stdout",
     "output_type": "stream",
     "text": [
      "<class 'pandas.core.frame.DataFrame'>\n",
      "RangeIndex: 1114 entries, 0 to 1113\n",
      "Data columns (total 16 columns):\n",
      " #   Column         Non-Null Count  Dtype \n",
      "---  ------         --------------  ----- \n",
      " 0   no             1114 non-null   int64 \n",
      " 1   NIM            1114 non-null   object\n",
      " 2   nama           1114 non-null   object\n",
      " 3   jk             1114 non-null   object\n",
      " 4   program_studi  1114 non-null   object\n",
      " 5   ips_1          1114 non-null   object\n",
      " 6   ips_2          1114 non-null   object\n",
      " 7   ips_3          1114 non-null   object\n",
      " 8   ips_4          1114 non-null   object\n",
      " 9   ips_5          1114 non-null   object\n",
      " 10  ips_6          1114 non-null   object\n",
      " 11  ips_7          1114 non-null   object\n",
      " 12  ipk            1114 non-null   object\n",
      " 13  total_sks      1114 non-null   int64 \n",
      " 14  pekerjaan      1114 non-null   object\n",
      " 15  kelulusan      1114 non-null   object\n",
      "dtypes: int64(2), object(14)\n",
      "memory usage: 139.4+ KB\n"
     ]
    }
   ],
   "source": [
    "df.info()"
   ]
  },
  {
   "cell_type": "code",
   "execution_count": 29,
   "id": "17e57c02-124b-4dd2-86cf-17565580721b",
   "metadata": {},
   "outputs": [],
   "source": [
    "\n",
    "def proses_data(df):\n",
    "    df = df.drop(['no', 'NIM', 'nama','program_studi','ipk'],axis =1)\n",
    "    df['jk'] = df['jk'].str.strip().replace({'L': 0, 'P': 1,})\n",
    "    df['kelulusan'] = df['kelulusan'].str.strip().replace({'TERLAMBAT': 0, 'TEPAT WAKTU': 1})\n",
    "    df['pekerjaan'] = df['pekerjaan'].str.strip().replace({'KARYAWAN': 0, 'MAHASISWA': 1})\n",
    "    df['ips_1'] = df['ips_1'].apply(lambda x: x.replace(',','.'))\n",
    "    df['ips_2'] = df['ips_2'].apply(lambda x: x.replace(',','.'))\n",
    "    df['ips_3'] = df['ips_3'].apply(lambda x: x.replace(',','.'))\n",
    "    df['ips_4'] = df['ips_4'].apply(lambda x: x.replace(',','.'))\n",
    "    df['ips_5'] = df['ips_5'].apply(lambda x: x.replace(',','.'))\n",
    "    df['ips_6'] = df['ips_6'].apply(lambda x: x.replace(',','.'))\n",
    "    df['ips_7'] = df['ips_7'].apply(lambda x: x.replace(',','.'))\n",
    "    return df\n",
    "\n",
    "df = proses_data(df_master)"
   ]
  },
  {
   "cell_type": "code",
   "execution_count": 30,
   "id": "b2e8758b-6f56-40bb-97df-9e3fe744ec25",
   "metadata": {},
   "outputs": [
    {
     "data": {
      "text/html": [
       "<div>\n",
       "<style scoped>\n",
       "    .dataframe tbody tr th:only-of-type {\n",
       "        vertical-align: middle;\n",
       "    }\n",
       "\n",
       "    .dataframe tbody tr th {\n",
       "        vertical-align: top;\n",
       "    }\n",
       "\n",
       "    .dataframe thead th {\n",
       "        text-align: right;\n",
       "    }\n",
       "</style>\n",
       "<table border=\"1\" class=\"dataframe\">\n",
       "  <thead>\n",
       "    <tr style=\"text-align: right;\">\n",
       "      <th></th>\n",
       "      <th>jk</th>\n",
       "      <th>ips_1</th>\n",
       "      <th>ips_2</th>\n",
       "      <th>ips_3</th>\n",
       "      <th>ips_4</th>\n",
       "      <th>ips_5</th>\n",
       "      <th>ips_6</th>\n",
       "      <th>ips_7</th>\n",
       "      <th>total_sks</th>\n",
       "      <th>pekerjaan</th>\n",
       "      <th>kelulusan</th>\n",
       "    </tr>\n",
       "  </thead>\n",
       "  <tbody>\n",
       "    <tr>\n",
       "      <th>0</th>\n",
       "      <td>0</td>\n",
       "      <td>2.61</td>\n",
       "      <td>2.36</td>\n",
       "      <td>2.93</td>\n",
       "      <td>2</td>\n",
       "      <td>2.4</td>\n",
       "      <td>0.67</td>\n",
       "      <td>0</td>\n",
       "      <td>120</td>\n",
       "      <td>0</td>\n",
       "      <td>0</td>\n",
       "    </tr>\n",
       "    <tr>\n",
       "      <th>1</th>\n",
       "      <td>1</td>\n",
       "      <td>3</td>\n",
       "      <td>3.11</td>\n",
       "      <td>3.29</td>\n",
       "      <td>2.38</td>\n",
       "      <td>3.45</td>\n",
       "      <td>0.67</td>\n",
       "      <td>0</td>\n",
       "      <td>124</td>\n",
       "      <td>1</td>\n",
       "      <td>0</td>\n",
       "    </tr>\n",
       "    <tr>\n",
       "      <th>2</th>\n",
       "      <td>1</td>\n",
       "      <td>3.53</td>\n",
       "      <td>3.27</td>\n",
       "      <td>3.18</td>\n",
       "      <td>3.38</td>\n",
       "      <td>3.32</td>\n",
       "      <td>2.5</td>\n",
       "      <td>3.17</td>\n",
       "      <td>144</td>\n",
       "      <td>1</td>\n",
       "      <td>1</td>\n",
       "    </tr>\n",
       "    <tr>\n",
       "      <th>3</th>\n",
       "      <td>1</td>\n",
       "      <td>3.55</td>\n",
       "      <td>3.33</td>\n",
       "      <td>3.25</td>\n",
       "      <td>3.45</td>\n",
       "      <td>3.25</td>\n",
       "      <td>2.58</td>\n",
       "      <td>3.25</td>\n",
       "      <td>144</td>\n",
       "      <td>1</td>\n",
       "      <td>1</td>\n",
       "    </tr>\n",
       "    <tr>\n",
       "      <th>4</th>\n",
       "      <td>1</td>\n",
       "      <td>3.32</td>\n",
       "      <td>2.78</td>\n",
       "      <td>2.93</td>\n",
       "      <td>3.08</td>\n",
       "      <td>3.07</td>\n",
       "      <td>2.47</td>\n",
       "      <td>3.14</td>\n",
       "      <td>142</td>\n",
       "      <td>1</td>\n",
       "      <td>0</td>\n",
       "    </tr>\n",
       "    <tr>\n",
       "      <th>...</th>\n",
       "      <td>...</td>\n",
       "      <td>...</td>\n",
       "      <td>...</td>\n",
       "      <td>...</td>\n",
       "      <td>...</td>\n",
       "      <td>...</td>\n",
       "      <td>...</td>\n",
       "      <td>...</td>\n",
       "      <td>...</td>\n",
       "      <td>...</td>\n",
       "      <td>...</td>\n",
       "    </tr>\n",
       "    <tr>\n",
       "      <th>1109</th>\n",
       "      <td>1</td>\n",
       "      <td>2.9</td>\n",
       "      <td>0</td>\n",
       "      <td>2.15</td>\n",
       "      <td>2.5</td>\n",
       "      <td>2.96</td>\n",
       "      <td>2.12</td>\n",
       "      <td>2.4</td>\n",
       "      <td>40</td>\n",
       "      <td>1</td>\n",
       "      <td>0</td>\n",
       "    </tr>\n",
       "    <tr>\n",
       "      <th>1110</th>\n",
       "      <td>1</td>\n",
       "      <td>3.78</td>\n",
       "      <td>3.8</td>\n",
       "      <td>3.54</td>\n",
       "      <td>3.5</td>\n",
       "      <td>3.78</td>\n",
       "      <td>3.96</td>\n",
       "      <td>3.92</td>\n",
       "      <td>137</td>\n",
       "      <td>1</td>\n",
       "      <td>1</td>\n",
       "    </tr>\n",
       "    <tr>\n",
       "      <th>1111</th>\n",
       "      <td>1</td>\n",
       "      <td>3.35</td>\n",
       "      <td>3.15</td>\n",
       "      <td>0</td>\n",
       "      <td>0</td>\n",
       "      <td>3.34</td>\n",
       "      <td>2.34</td>\n",
       "      <td>2.93</td>\n",
       "      <td>119</td>\n",
       "      <td>1</td>\n",
       "      <td>0</td>\n",
       "    </tr>\n",
       "    <tr>\n",
       "      <th>1112</th>\n",
       "      <td>1</td>\n",
       "      <td>3.35</td>\n",
       "      <td>3.18</td>\n",
       "      <td>2.96</td>\n",
       "      <td>2.69</td>\n",
       "      <td>2.65</td>\n",
       "      <td>2.66</td>\n",
       "      <td>3.46</td>\n",
       "      <td>141</td>\n",
       "      <td>1</td>\n",
       "      <td>0</td>\n",
       "    </tr>\n",
       "    <tr>\n",
       "      <th>1113</th>\n",
       "      <td>0</td>\n",
       "      <td>3.7</td>\n",
       "      <td>3.75</td>\n",
       "      <td>3.57</td>\n",
       "      <td>3.63</td>\n",
       "      <td>3.38</td>\n",
       "      <td>3.9</td>\n",
       "      <td>3.96</td>\n",
       "      <td>134</td>\n",
       "      <td>1</td>\n",
       "      <td>1</td>\n",
       "    </tr>\n",
       "  </tbody>\n",
       "</table>\n",
       "<p>1114 rows × 11 columns</p>\n",
       "</div>"
      ],
      "text/plain": [
       "      jk ips_1 ips_2 ips_3 ips_4 ips_5 ips_6 ips_7  total_sks  pekerjaan  \\\n",
       "0      0  2.61  2.36  2.93     2   2.4  0.67     0        120          0   \n",
       "1      1     3  3.11  3.29  2.38  3.45  0.67     0        124          1   \n",
       "2      1  3.53  3.27  3.18  3.38  3.32   2.5  3.17        144          1   \n",
       "3      1  3.55  3.33  3.25  3.45  3.25  2.58  3.25        144          1   \n",
       "4      1  3.32  2.78  2.93  3.08  3.07  2.47  3.14        142          1   \n",
       "...   ..   ...   ...   ...   ...   ...   ...   ...        ...        ...   \n",
       "1109   1   2.9     0  2.15   2.5  2.96  2.12   2.4         40          1   \n",
       "1110   1  3.78   3.8  3.54   3.5  3.78  3.96  3.92        137          1   \n",
       "1111   1  3.35  3.15     0     0  3.34  2.34  2.93        119          1   \n",
       "1112   1  3.35  3.18  2.96  2.69  2.65  2.66  3.46        141          1   \n",
       "1113   0   3.7  3.75  3.57  3.63  3.38   3.9  3.96        134          1   \n",
       "\n",
       "      kelulusan  \n",
       "0             0  \n",
       "1             0  \n",
       "2             1  \n",
       "3             1  \n",
       "4             0  \n",
       "...         ...  \n",
       "1109          0  \n",
       "1110          1  \n",
       "1111          0  \n",
       "1112          0  \n",
       "1113          1  \n",
       "\n",
       "[1114 rows x 11 columns]"
      ]
     },
     "execution_count": 30,
     "metadata": {},
     "output_type": "execute_result"
    }
   ],
   "source": [
    "df"
   ]
  },
  {
   "cell_type": "code",
   "execution_count": 31,
   "id": "a8addde7-4899-4195-974b-5a8ece176250",
   "metadata": {},
   "outputs": [
    {
     "data": {
      "text/plain": [
       "<AxesSubplot:title={'center':'0: TERLAMBAT || 1: TEPAT WAKTU'}, xlabel='kelulusan', ylabel='count'>"
      ]
     },
     "execution_count": 31,
     "metadata": {},
     "output_type": "execute_result"
    },
    {
     "data": {
      "image/png": "[encoded data removed]",
      "text/plain": [
       "<Figure size 432x288 with 1 Axes>"
      ]
     },
     "metadata": {
      "needs_background": "light"
     },
     "output_type": "display_data"
    }
   ],
   "source": [
    "#data\n",
    "X1 = df.drop(['kelulusan'],axis=1)\n",
    "#label data\n",
    "y1 = df['kelulusan']\n",
    "\n",
    "plt.title('0: TERLAMBAT || 1: TEPAT WAKTU', fontsize=14)\n",
    "sns.countplot(x ='kelulusan', data=df)\n"
   ]
  },
  {
   "cell_type": "code",
   "execution_count": 32,
   "id": "214176d7-05b3-47a2-a882-65fc3e150d27",
   "metadata": {},
   "outputs": [
    {
     "data": {
      "text/plain": [
       "<AxesSubplot:title={'center':'0: TERLAMBAT || 1: TEPAT WAKTU'}, xlabel='kelulusan', ylabel='count'>"
      ]
     },
     "execution_count": 32,
     "metadata": {},
     "output_type": "execute_result"
    },
    {
     "data": {
      "image/png": "[encoded data removed]",
      "text/plain": [
       "<Figure size 432x288 with 1 Axes>"
      ]
     },
     "metadata": {
      "needs_background": "light"
     },
     "output_type": "display_data"
    }
   ],
   "source": [
    "#balancing the data using SMOTE\n",
    "df2 = pd.DataFrame()\n",
    "sm = SMOTE()\n",
    "df2, df2['kelulusan'] = sm.fit_resample(X1,y1)\n",
    "X2 = df2.drop('kelulusan',axis=1)\n",
    "y2 = df2['kelulusan']\n",
    "plt.title('0: TERLAMBAT || 1: TEPAT WAKTU', fontsize=14)\n",
    "sns.countplot(x ='kelulusan', data=df2)"
   ]
  },
  {
   "cell_type": "code",
   "execution_count": 54,
   "id": "a01422d9-b834-4885-b0a1-e02cde861c66",
   "metadata": {},
   "outputs": [],
   "source": [
    "#df2.to_csv('x2.csv',index=False)\n",
    "arr_map = {1:'TEPAT WAKTU', 0:'TERLAMBAT'}"
   ]
  },
  {
   "cell_type": "markdown",
   "id": "025cade3-3ee2-4c85-b99b-fe8bf3326aa2",
   "metadata": {},
   "source": [
    "# Decision Tree"
   ]
  },
  {
   "cell_type": "code",
   "execution_count": 88,
   "id": "bebe0419-58a1-4a2a-ba12-4654475e98d1",
   "metadata": {},
   "outputs": [
    {
     "name": "stdout",
     "output_type": "stream",
     "text": [
      "Accuracy: 0.96\n",
      "Recall TEPAT WAKTU : 0.95\n",
      "Recall TERLAMBAT : 0.96\n",
      "Precision TEPAT WAKTU : 0.99\n",
      "Precision TERLAMBAT : 0.85\n"
     ]
    },
    {
     "data": {
      "image/png": "[encoded data removed]",
      "text/plain": [
       "<Figure size 432x288 with 2 Axes>"
      ]
     },
     "metadata": {
      "needs_background": "light"
     },
     "output_type": "display_data"
    }
   ],
   "source": [
    "\n",
    "\n",
    "dfm1 = df_master.copy()\n",
    "\n",
    "\n",
    "dtree_model2 = DecisionTreeClassifier(max_depth = 4).fit(X2, y2) #hyperparameter\n",
    "ypred = dtree_model2.predict(X1)\n",
    "\n",
    "dfm1['prediksi'] = ypred\n",
    "dfm1['prediksi'] = dfm1['prediksi'].map(arr_map)\n",
    "\n",
    "\n",
    "recall1 = '{:.2f}'.format(metrics.recall_score(dfm1['kelulusan'], dfm1['prediksi'],pos_label='TEPAT WAKTU' ))\n",
    "recall2 = '{:.2f}'.format(metrics.recall_score(dfm1['kelulusan'], dfm1['prediksi'],pos_label='TERLAMBAT' )) \n",
    "precision1 = '{:.2f}'.format(metrics.precision_score(dfm1['kelulusan'], dfm1['prediksi'],pos_label='TEPAT WAKTU' ))\n",
    "precision2 = '{:.2f}'.format(metrics.precision_score(dfm1['kelulusan'], dfm1['prediksi'],pos_label='TERLAMBAT' ))\n",
    "accuracy = '{:.2f}'.format(metrics.accuracy_score(dfm1['kelulusan'], dfm1['prediksi']))\n",
    "print(\"Accuracy:\",accuracy)\n",
    "print(\"Recall TEPAT WAKTU :\",recall1)\n",
    "print(\"Recall TERLAMBAT :\",recall2)\n",
    "print(\"Precision TEPAT WAKTU :\",precision1)\n",
    "print(\"Precision TERLAMBAT :\",precision2)\n",
    "\n",
    "confusionmatrix = pd.crosstab(dfm1['kelulusan'], dfm1['prediksi'], rownames=['Aktual'], colnames=['Prediksi'])\n",
    "sns.heatmap(confusionmatrix, annot=True, fmt='g',cmap='Blues')\n",
    "plt.show()"
   ]
  },
  {
   "cell_type": "markdown",
   "id": "d419ca6b-98e9-44d7-ae4e-1d8343838b40",
   "metadata": {
    "tags": []
   },
   "source": [
    "# Naive Bayes"
   ]
  },
  {
   "cell_type": "code",
   "execution_count": 83,
   "id": "56c2da30-abec-4007-886f-5711d16581c2",
   "metadata": {},
   "outputs": [
    {
     "name": "stdout",
     "output_type": "stream",
     "text": [
      "Accuracy: 0.91\n",
      "Recall TEPAT WAKTU : 0.88\n",
      "Recall TERLAMBAT : 0.99\n",
      "Precision TEPAT WAKTU : 1.00\n",
      "Precision TERLAMBAT : 0.70\n"
     ]
    },
    {
     "data": {
      "image/png": "[encoded data removed]",
      "text/plain": [
       "<Figure size 432x288 with 2 Axes>"
      ]
     },
     "metadata": {
      "needs_background": "light"
     },
     "output_type": "display_data"
    }
   ],
   "source": [
    "\n",
    "dfm2 = df_master.copy()\n",
    "model = GaussianNB().fit(X2, y2)\n",
    "nbpred = model.predict(X1)\n",
    "\n",
    "dfm2['prediksi'] = nbpred\n",
    "dfm2['prediksi'] = dfm2['prediksi'].map(arr_map)\n",
    "\n",
    "cm2 = confusion_matrix(y1, nbpred)\n",
    "\n",
    "recall1 = '{:.2f}'.format(metrics.recall_score(dfm2['kelulusan'], dfm2['prediksi'],pos_label='TEPAT WAKTU' ))\n",
    "recall2 = '{:.2f}'.format(metrics.recall_score(dfm2['kelulusan'], dfm2['prediksi'],pos_label='TERLAMBAT' ) )\n",
    "precision1 = '{:.2f}'.format(metrics.precision_score(dfm2['kelulusan'], dfm2['prediksi'],pos_label='TEPAT WAKTU' ))\n",
    "precision2 = '{:.2f}'.format(metrics.precision_score(dfm2['kelulusan'], dfm2['prediksi'],pos_label='TERLAMBAT' ))\n",
    "accuracy = '{:.2f}'.format(metrics.accuracy_score(dfm2['kelulusan'], dfm2['prediksi']))\n",
    "print(\"Accuracy:\",accuracy)\n",
    "print(\"Recall TEPAT WAKTU :\",recall1)\n",
    "print(\"Recall TERLAMBAT :\",recall2)\n",
    "print(\"Precision TEPAT WAKTU :\",precision1)\n",
    "print(\"Precision TERLAMBAT :\",precision2)\n",
    "\n",
    "confusionmatrix = pd.crosstab(dfm2['kelulusan'], dfm2['prediksi'], rownames=['Aktual'], colnames=['Prediksi'])\n",
    "sns.heatmap(confusionmatrix, annot=True, fmt='g',cmap='Blues')\n",
    "plt.show()"
   ]
  },
  {
   "cell_type": "markdown",
   "id": "3d4e697b-2d3d-4779-a068-58c0bcd6f13f",
   "metadata": {},
   "source": [
    "# KNN"
   ]
  },
  {
   "cell_type": "code",
   "execution_count": 59,
   "id": "aed98bf9-de92-4696-9a8e-8c1275e8d921",
   "metadata": {},
   "outputs": [
    {
     "data": {
      "image/png": "[encoded data removed]",
      "text/plain": [
       "<Figure size 432x288 with 1 Axes>"
      ]
     },
     "metadata": {
      "needs_background": "light"
     },
     "output_type": "display_data"
    }
   ],
   "source": [
    "neighbors = np.arange(2, 12)\n",
    "train_accuracy = np.empty(len(neighbors))\n",
    "test_accuracy = np.empty(len(neighbors))\n",
    "  \n",
    "# Loop over K values\n",
    "for i, k in enumerate(neighbors):\n",
    "    knn = KNeighborsClassifier(n_neighbors=k)\n",
    "    knn.fit(X2, y2)\n",
    "      \n",
    "    # Compute traning and test data accuracy\n",
    "    train_accuracy[i] = knn.score(X2, y2)\n",
    "    test_accuracy[i] = knn.score(X1, y1)\n",
    "  \n",
    "# Generate plot\n",
    "plt.plot(neighbors, test_accuracy, label = 'Testing dataset Accuracy')\n",
    "plt.plot(neighbors, train_accuracy, label = 'Training dataset Accuracy')\n",
    "  \n",
    "plt.legend()\n",
    "plt.xlabel('n_neighbors')\n",
    "plt.ylabel('Accuracy')\n",
    "plt.show()"
   ]
  },
  {
   "cell_type": "code",
   "execution_count": 84,
   "id": "1c675a2c-93d1-47f7-a850-de50b552284f",
   "metadata": {},
   "outputs": [
    {
     "name": "stdout",
     "output_type": "stream",
     "text": [
      "Accuracy: 0.98\n",
      "Recall TEPAT WAKTU : 0.98\n",
      "Recall TERLAMBAT : 0.99\n",
      "Precision TEPAT WAKTU : 1.00\n",
      "Precision TERLAMBAT : 0.93\n"
     ]
    },
    {
     "data": {
      "image/png": "[encoded data removed]",
      "text/plain": [
       "<Figure size 432x288 with 2 Axes>"
      ]
     },
     "metadata": {
      "needs_background": "light"
     },
     "output_type": "display_data"
    }
   ],
   "source": [
    "jumlah_n = 3 #hasil perhitungan\n",
    "knn =  KNeighborsClassifier(n_neighbors=jumlah_n).fit(X2, y2)\n",
    "knnpred = knn.predict(X1)\n",
    "\n",
    "dfm3 = df_master.copy()\n",
    "dfm3['prediksi'] = knnpred\n",
    "dfm3['prediksi'] = dfm3['prediksi'].map(arr_map)\n",
    "\n",
    "recall1 = '{:.2f}'.format(metrics.recall_score(dfm3['kelulusan'], dfm3['prediksi'],pos_label='TEPAT WAKTU' ))\n",
    "recall2 = '{:.2f}'.format(metrics.recall_score(dfm3['kelulusan'], dfm3['prediksi'],pos_label='TERLAMBAT' ) )\n",
    "precision1 = '{:.2f}'.format(metrics.precision_score(dfm3['kelulusan'], dfm3['prediksi'],pos_label='TEPAT WAKTU' ))\n",
    "precision2 = '{:.2f}'.format(metrics.precision_score(dfm3['kelulusan'], dfm3['prediksi'],pos_label='TERLAMBAT' ))\n",
    "accuracy = '{:.2f}'.format(metrics.accuracy_score(dfm3['kelulusan'], dfm3['prediksi']))\n",
    "print(\"Accuracy:\",accuracy)\n",
    "print(\"Recall TEPAT WAKTU :\",recall1)\n",
    "print(\"Recall TERLAMBAT :\",recall2)\n",
    "print(\"Precision TEPAT WAKTU :\",precision1)\n",
    "print(\"Precision TERLAMBAT :\",precision2)\n",
    "\n",
    "confusionmatrix = pd.crosstab(dfm3['kelulusan'], dfm3['prediksi'], rownames=['Aktual'], colnames=['Prediksi'])\n",
    "sns.heatmap(confusionmatrix, annot=True, fmt='g',cmap='Blues')\n",
    "plt.show()"
   ]
  },
  {
   "cell_type": "code",
   "execution_count": null,
   "id": "57b86ae9-78e8-4691-8d3d-06d30c8bbed6",
   "metadata": {},
   "outputs": [],
   "source": []
  }
 ],
 "metadata": {
  "kernelspec": {
   "display_name": "Python 3 (ipykernel)",
   "language": "python",
   "name": "python3"
  },
  "language_info": {
   "codemirror_mode": {
    "name": "ipython",
    "version": 3
   },
   "file_extension": ".py",
   "mimetype": "text/x-python",
   "name": "python",
   "nbconvert_exporter": "python",
   "pygments_lexer": "ipython3",
   "version": "3.9.6"
  }
 },
 "nbformat": 4,
 "nbformat_minor": 5
}
